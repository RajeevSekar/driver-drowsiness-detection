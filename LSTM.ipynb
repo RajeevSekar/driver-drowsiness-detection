{
 "cells": [
  {
   "cell_type": "code",
   "execution_count": 1,
   "metadata": {
    "colab": {},
    "colab_type": "code",
    "id": "NAeqFy8gXWVF"
   },
   "outputs": [],
   "source": [
    "#dataset - http://vlm1.uta.edu/~athitsos/projects/drowsiness/\n",
    "import pandas as pd\n",
    "df = pd.read_csv('totalwithmaininfo.csv',sep=',');"
   ]
  },
  {
   "cell_type": "code",
   "execution_count": 2,
   "metadata": {
    "colab": {},
    "colab_type": "code",
    "id": "8uWO0GegJGfW"
   },
   "outputs": [],
   "source": [
    "df=df.drop(df.columns[0], axis=1)"
   ]
  },
  {
   "cell_type": "code",
   "execution_count": 3,
   "metadata": {
    "colab": {},
    "colab_type": "code",
    "id": "xCcrX2clXBFZ"
   },
   "outputs": [],
   "source": [
    "train_percentage = 17/22\n",
    "train_index = int(len(df)*train_percentage)\n",
    "test_index = len(df)-train_index"
   ]
  },
  {
   "cell_type": "code",
   "execution_count": 4,
   "metadata": {
    "colab": {},
    "colab_type": "code",
    "id": "XFxGMN1uXyd_"
   },
   "outputs": [],
   "source": [
    "df_train = df[:train_index]\n",
    "df_test = df[-test_index:]"
   ]
  },
  {
   "cell_type": "code",
   "execution_count": 5,
   "metadata": {
    "colab": {},
    "colab_type": "code",
    "id": "NSPtv0PYYF7v"
   },
   "outputs": [],
   "source": [
    "x_test = df_test.drop([\"Y\"],axis=1)\n",
    "y_test = df_test[\"Y\"]"
   ]
  },
  {
   "cell_type": "code",
   "execution_count": 6,
   "metadata": {
    "colab": {},
    "colab_type": "code",
    "id": "pbkVn0MvYkzK"
   },
   "outputs": [],
   "source": [
    "x_train = df_train.drop('Y',axis=1)\n",
    "y_train = df_train['Y']"
   ]
  },
  {
   "cell_type": "code",
   "execution_count": 8,
   "metadata": {
    "colab": {
     "base_uri": "https://localhost:8080/",
     "height": 34
    },
    "colab_type": "code",
    "id": "KrpHxM6gDeYB",
    "outputId": "717a1e57-eb36-4a46-e3b1-61b8b25e83d2"
   },
   "outputs": [
    {
     "data": {
      "text/plain": [
       "(2400, 8)"
      ]
     },
     "execution_count": 8,
     "metadata": {},
     "output_type": "execute_result"
    }
   ],
   "source": [
    "x_test.shape"
   ]
  },
  {
   "cell_type": "code",
   "execution_count": 10,
   "metadata": {
    "colab": {
     "base_uri": "https://localhost:8080/",
     "height": 34
    },
    "colab_type": "code",
    "id": "k6cJosvmYwha",
    "outputId": "3b1d42b2-9156-4cb4-ece6-70baaaeeeba6"
   },
   "outputs": [
    {
     "data": {
      "text/plain": [
       "(8160, 8)"
      ]
     },
     "execution_count": 10,
     "metadata": {},
     "output_type": "execute_result"
    }
   ],
   "source": [
    "x_train.shape"
   ]
  },
  {
   "cell_type": "code",
   "execution_count": 11,
   "metadata": {
    "colab": {},
    "colab_type": "code",
    "id": "tEmlPojUYrKU"
   },
   "outputs": [],
   "source": [
    "import numpy as np\n",
    "x_shaped_train  = np.array(x_train).reshape(1632,5,8)\n",
    "x_shaped_test  = np.array(x_test).reshape(480,5,8)"
   ]
  },
  {
   "cell_type": "code",
   "execution_count": 12,
   "metadata": {
    "colab": {
     "base_uri": "https://localhost:8080/",
     "height": 51
    },
    "colab_type": "code",
    "id": "VtcjdfayZujE",
    "outputId": "f5ae7434-f5e7-4063-f4b0-2c4ebe14ff2b"
   },
   "outputs": [
    {
     "name": "stdout",
     "output_type": "stream",
     "text": [
      "1632\n",
      "480\n"
     ]
    }
   ],
   "source": [
    "y_train = np.array(y_train)\n",
    "y_test = np.array(y_test)\n",
    "\n",
    "y_shaped_train  = []\n",
    "for i in range(0, len(y_train), 5):\n",
    "  y_shaped_train.append([y_train[i]])\n",
    "print(len(y_shaped_train))\n",
    "\n",
    "y_shaped_test  = []\n",
    "for i in range(0, len(y_test), 5):\n",
    "  y_shaped_test.append([y_test[i]])\n",
    "print(len(y_shaped_test))"
   ]
  },
  {
   "cell_type": "code",
   "execution_count": 13,
   "metadata": {
    "colab": {
     "base_uri": "https://localhost:8080/",
     "height": 34
    },
    "colab_type": "code",
    "id": "hLuf7dvXbh8L",
    "outputId": "b3240806-f8d6-4b06-f453-66f9cae7dbb9"
   },
   "outputs": [
    {
     "data": {
      "text/plain": [
       "(1632, 5, 8)"
      ]
     },
     "execution_count": 13,
     "metadata": {},
     "output_type": "execute_result"
    }
   ],
   "source": [
    "x_shaped_train.shape"
   ]
  },
  {
   "cell_type": "code",
   "execution_count": 14,
   "metadata": {
    "colab": {
     "base_uri": "https://localhost:8080/",
     "height": 34
    },
    "colab_type": "code",
    "id": "i6N3HkPibkOb",
    "outputId": "7ebdae92-df54-4b30-b295-b33c261cb15a"
   },
   "outputs": [
    {
     "data": {
      "text/plain": [
       "(480, 5, 8)"
      ]
     },
     "execution_count": 14,
     "metadata": {},
     "output_type": "execute_result"
    }
   ],
   "source": [
    "x_shaped_test.shape"
   ]
  },
  {
   "cell_type": "code",
   "execution_count": 15,
   "metadata": {
    "colab": {
     "base_uri": "https://localhost:8080/",
     "height": 34
    },
    "colab_type": "code",
    "id": "x_qDlUwjbkUR",
    "outputId": "2280502f-d406-412f-fe11-88f3655a7ab2"
   },
   "outputs": [
    {
     "data": {
      "text/plain": [
       "(1632, 1)"
      ]
     },
     "execution_count": 15,
     "metadata": {},
     "output_type": "execute_result"
    }
   ],
   "source": [
    "y_shaped_train = np.array(y_shaped_train)\n",
    "y_shaped_train.shape"
   ]
  },
  {
   "cell_type": "code",
   "execution_count": 16,
   "metadata": {
    "colab": {
     "base_uri": "https://localhost:8080/",
     "height": 34
    },
    "colab_type": "code",
    "id": "gH8tR58PbkzU",
    "outputId": "d116c724-009c-40bf-d4eb-d9f367824a4d"
   },
   "outputs": [
    {
     "data": {
      "text/plain": [
       "(480, 1)"
      ]
     },
     "execution_count": 16,
     "metadata": {},
     "output_type": "execute_result"
    }
   ],
   "source": [
    "y_shaped_test = np.array(y_shaped_test)\n",
    "y_shaped_test.shape"
   ]
  },
  {
   "cell_type": "code",
   "execution_count": 20,
   "metadata": {
    "colab": {
     "base_uri": "https://localhost:8080/",
     "height": 1000
    },
    "colab_type": "code",
    "id": "qkTiYZ70bTZB",
    "outputId": "30e9171d-e5c4-42b0-88d1-e5796275b851"
   },
   "outputs": [
    {
     "name": "stdout",
     "output_type": "stream",
     "text": [
      "Epoch 1/50\n",
      "164/164 [==============================] - 14s 67ms/step - loss: 3.3816 - accuracy: 0.5092 - val_loss: 1.1066 - val_accuracy: 0.5000\n",
      "Epoch 2/50\n",
      "164/164 [==============================] - 11s 65ms/step - loss: 2.3072 - accuracy: 0.4982 - val_loss: 0.8838 - val_accuracy: 0.5000\n",
      "Epoch 3/50\n",
      "164/164 [==============================] - 11s 64ms/step - loss: 2.0045 - accuracy: 0.5165 - val_loss: 0.6808 - val_accuracy: 0.6500\n",
      "Epoch 4/50\n",
      "164/164 [==============================] - 11s 65ms/step - loss: 1.5740 - accuracy: 0.5104 - val_loss: 0.6900 - val_accuracy: 0.4875\n",
      "Epoch 5/50\n",
      "164/164 [==============================] - 11s 66ms/step - loss: 1.4026 - accuracy: 0.4975 - val_loss: 0.6801 - val_accuracy: 0.6333\n",
      "Epoch 6/50\n",
      "164/164 [==============================] - 11s 64ms/step - loss: 1.4425 - accuracy: 0.5184 - val_loss: 0.6862 - val_accuracy: 0.6500\n",
      "Epoch 7/50\n",
      "164/164 [==============================] - 11s 66ms/step - loss: 1.1320 - accuracy: 0.5282 - val_loss: 0.6785 - val_accuracy: 0.6167\n",
      "Epoch 8/50\n",
      "164/164 [==============================] - 11s 65ms/step - loss: 1.0560 - accuracy: 0.5000 - val_loss: 0.6886 - val_accuracy: 0.6500\n",
      "Epoch 9/50\n",
      "164/164 [==============================] - 11s 69ms/step - loss: 1.1513 - accuracy: 0.5245 - val_loss: 0.6739 - val_accuracy: 0.6458\n",
      "Epoch 10/50\n",
      "164/164 [==============================] - 11s 69ms/step - loss: 1.0978 - accuracy: 0.5509 - val_loss: 0.6874 - val_accuracy: 0.6458\n",
      "Epoch 11/50\n",
      "164/164 [==============================] - 11s 66ms/step - loss: 1.5209 - accuracy: 0.5221 - val_loss: 0.7222 - val_accuracy: 0.5042\n",
      "Epoch 12/50\n",
      "164/164 [==============================] - 11s 66ms/step - loss: 1.4460 - accuracy: 0.5092 - val_loss: 0.6825 - val_accuracy: 0.6375\n",
      "Epoch 13/50\n",
      "164/164 [==============================] - 11s 67ms/step - loss: 1.3893 - accuracy: 0.5031 - val_loss: 0.6864 - val_accuracy: 0.5917\n",
      "Epoch 14/50\n",
      "164/164 [==============================] - 11s 68ms/step - loss: 1.2937 - accuracy: 0.5067 - val_loss: 0.7383 - val_accuracy: 0.6250\n",
      "Epoch 15/50\n",
      "164/164 [==============================] - 11s 68ms/step - loss: 1.1966 - accuracy: 0.5417 - val_loss: 0.7109 - val_accuracy: 0.6292\n",
      "Epoch 16/50\n",
      "164/164 [==============================] - 11s 66ms/step - loss: 1.1972 - accuracy: 0.5104 - val_loss: 0.7187 - val_accuracy: 0.4500\n",
      "Epoch 17/50\n",
      "164/164 [==============================] - 11s 66ms/step - loss: 1.2583 - accuracy: 0.5374 - val_loss: 0.7074 - val_accuracy: 0.6292\n",
      "Epoch 18/50\n",
      "164/164 [==============================] - 11s 66ms/step - loss: 1.0795 - accuracy: 0.5453 - val_loss: 0.7262 - val_accuracy: 0.6250\n",
      "Epoch 19/50\n",
      "164/164 [==============================] - 11s 66ms/step - loss: 0.9893 - accuracy: 0.5594 - val_loss: 0.7266 - val_accuracy: 0.6375\n",
      "Epoch 20/50\n",
      "164/164 [==============================] - 11s 66ms/step - loss: 1.0330 - accuracy: 0.5429 - val_loss: 0.7186 - val_accuracy: 0.6375\n",
      "Epoch 21/50\n",
      "164/164 [==============================] - 11s 65ms/step - loss: 0.9053 - accuracy: 0.5539 - val_loss: 0.7061 - val_accuracy: 0.6333\n",
      "Epoch 22/50\n",
      "164/164 [==============================] - 11s 65ms/step - loss: 0.9298 - accuracy: 0.5423 - val_loss: 0.7566 - val_accuracy: 0.6250\n",
      "Epoch 23/50\n",
      "164/164 [==============================] - 11s 65ms/step - loss: 0.9862 - accuracy: 0.5447 - val_loss: 0.7096 - val_accuracy: 0.6292\n",
      "Epoch 24/50\n",
      "164/164 [==============================] - 11s 66ms/step - loss: 0.9806 - accuracy: 0.5374 - val_loss: 0.7060 - val_accuracy: 0.6208\n",
      "Epoch 25/50\n",
      "164/164 [==============================] - 11s 65ms/step - loss: 1.0012 - accuracy: 0.5619 - val_loss: 0.7041 - val_accuracy: 0.6083\n",
      "Epoch 26/50\n",
      "164/164 [==============================] - 11s 65ms/step - loss: 1.0637 - accuracy: 0.5607 - val_loss: 0.7088 - val_accuracy: 0.6375\n",
      "Epoch 27/50\n",
      "164/164 [==============================] - 11s 65ms/step - loss: 0.9218 - accuracy: 0.5876 - val_loss: 0.6919 - val_accuracy: 0.6500\n",
      "Epoch 28/50\n",
      "164/164 [==============================] - 11s 65ms/step - loss: 0.8205 - accuracy: 0.5600 - val_loss: 0.6990 - val_accuracy: 0.6167\n",
      "Epoch 29/50\n",
      "164/164 [==============================] - 11s 66ms/step - loss: 0.8913 - accuracy: 0.5619 - val_loss: 0.7191 - val_accuracy: 0.6333\n",
      "Epoch 30/50\n",
      "164/164 [==============================] - 11s 66ms/step - loss: 0.8471 - accuracy: 0.5680 - val_loss: 0.7299 - val_accuracy: 0.6375\n",
      "Epoch 31/50\n",
      "164/164 [==============================] - 11s 65ms/step - loss: 0.8614 - accuracy: 0.5778 - val_loss: 0.7404 - val_accuracy: 0.6417\n",
      "Epoch 32/50\n",
      "164/164 [==============================] - 11s 66ms/step - loss: 0.8868 - accuracy: 0.5821 - val_loss: 0.7418 - val_accuracy: 0.6458\n",
      "Epoch 33/50\n",
      "164/164 [==============================] - 11s 65ms/step - loss: 0.8931 - accuracy: 0.5839 - val_loss: 0.6943 - val_accuracy: 0.6458\n",
      "Epoch 34/50\n",
      "164/164 [==============================] - 11s 66ms/step - loss: 0.8238 - accuracy: 0.5944 - val_loss: 0.7061 - val_accuracy: 0.6333\n",
      "Epoch 35/50\n",
      "164/164 [==============================] - 11s 65ms/step - loss: 0.8685 - accuracy: 0.5778 - val_loss: 0.6875 - val_accuracy: 0.6375\n",
      "Epoch 36/50\n",
      "164/164 [==============================] - 11s 65ms/step - loss: 0.8250 - accuracy: 0.5956 - val_loss: 0.6800 - val_accuracy: 0.6208\n",
      "Epoch 37/50\n",
      "164/164 [==============================] - 11s 65ms/step - loss: 0.8110 - accuracy: 0.6036 - val_loss: 0.6737 - val_accuracy: 0.6375\n",
      "Epoch 38/50\n",
      "164/164 [==============================] - 11s 65ms/step - loss: 0.8999 - accuracy: 0.5723 - val_loss: 0.6713 - val_accuracy: 0.6500\n",
      "Epoch 39/50\n",
      "164/164 [==============================] - 11s 66ms/step - loss: 0.8053 - accuracy: 0.5735 - val_loss: 0.7343 - val_accuracy: 0.6417\n",
      "Epoch 40/50\n",
      "164/164 [==============================] - 12s 74ms/step - loss: 1.0235 - accuracy: 0.5484 - val_loss: 0.7389 - val_accuracy: 0.4833\n",
      "Epoch 41/50\n",
      "164/164 [==============================] - 11s 69ms/step - loss: 0.9875 - accuracy: 0.5582 - val_loss: 0.7544 - val_accuracy: 0.5625\n",
      "Epoch 42/50\n",
      "164/164 [==============================] - 11s 67ms/step - loss: 0.8946 - accuracy: 0.5484 - val_loss: 0.6630 - val_accuracy: 0.6333\n",
      "Epoch 43/50\n",
      "164/164 [==============================] - 11s 66ms/step - loss: 0.8804 - accuracy: 0.5674 - val_loss: 0.6608 - val_accuracy: 0.6417\n",
      "Epoch 44/50\n",
      "164/164 [==============================] - 11s 69ms/step - loss: 0.8645 - accuracy: 0.5472 - val_loss: 0.6622 - val_accuracy: 0.6333\n",
      "Epoch 45/50\n",
      "164/164 [==============================] - 11s 66ms/step - loss: 1.0503 - accuracy: 0.5521 - val_loss: 0.6938 - val_accuracy: 0.6250\n",
      "Epoch 46/50\n",
      "164/164 [==============================] - 11s 65ms/step - loss: 1.2078 - accuracy: 0.5447 - val_loss: 0.8193 - val_accuracy: 0.4875\n",
      "Epoch 47/50\n",
      "164/164 [==============================] - 11s 65ms/step - loss: 0.9702 - accuracy: 0.5276 - val_loss: 0.6788 - val_accuracy: 0.6500\n",
      "Epoch 48/50\n",
      "164/164 [==============================] - 11s 64ms/step - loss: 0.8966 - accuracy: 0.5441 - val_loss: 0.7740 - val_accuracy: 0.5792\n",
      "Epoch 49/50\n",
      "164/164 [==============================] - 11s 64ms/step - loss: 0.8313 - accuracy: 0.5790 - val_loss: 0.6496 - val_accuracy: 0.6542\n",
      "Epoch 50/50\n",
      "164/164 [==============================] - 11s 64ms/step - loss: 0.8349 - accuracy: 0.5833 - val_loss: 0.6531 - val_accuracy: 0.6458\n",
      "15/15 [==============================] - 1s 22ms/step\n"
     ]
    },
    {
     "data": {
      "text/plain": [
       "array([[0.2462496 ],\n",
       "       [0.21143325],\n",
       "       [0.23046061],\n",
       "       [0.27725834],\n",
       "       [0.36879414],\n",
       "       [0.25811353],\n",
       "       [0.36316457],\n",
       "       [0.3463202 ],\n",
       "       [0.61630857],\n",
       "       [0.56219566],\n",
       "       [0.45524395],\n",
       "       [0.43676135],\n",
       "       [0.51435196],\n",
       "       [0.5237711 ],\n",
       "       [0.5607973 ],\n",
       "       [0.5583102 ],\n",
       "       [0.51720446],\n",
       "       [0.5970894 ],\n",
       "       [0.5488117 ],\n",
       "       [0.5789451 ],\n",
       "       [0.39109942],\n",
       "       [0.76211077],\n",
       "       [0.7606531 ],\n",
       "       [0.7145791 ],\n",
       "       [0.72804457],\n",
       "       [0.661044  ],\n",
       "       [0.6736114 ],\n",
       "       [0.7146577 ],\n",
       "       [0.72283113],\n",
       "       [0.63394135],\n",
       "       [0.27765933],\n",
       "       [0.56451917],\n",
       "       [0.62066966],\n",
       "       [0.40830028],\n",
       "       [0.6736349 ],\n",
       "       [0.55128366],\n",
       "       [0.67004526],\n",
       "       [0.5549128 ],\n",
       "       [0.61169386],\n",
       "       [0.6679934 ],\n",
       "       [0.6564097 ],\n",
       "       [0.6906048 ],\n",
       "       [0.7268507 ],\n",
       "       [0.7370087 ],\n",
       "       [0.5967144 ],\n",
       "       [0.7373912 ],\n",
       "       [0.531644  ],\n",
       "       [0.7259907 ],\n",
       "       [0.18556039],\n",
       "       [0.19485922],\n",
       "       [0.26059124],\n",
       "       [0.19510302],\n",
       "       [0.20387314],\n",
       "       [0.3770767 ],\n",
       "       [0.54124093],\n",
       "       [0.52469957],\n",
       "       [0.53805315],\n",
       "       [0.38463357],\n",
       "       [0.5304222 ],\n",
       "       [0.255058  ],\n",
       "       [0.23303922],\n",
       "       [0.22431968],\n",
       "       [0.2500485 ],\n",
       "       [0.5054965 ],\n",
       "       [0.4470972 ],\n",
       "       [0.30190647],\n",
       "       [0.5596294 ],\n",
       "       [0.4067116 ],\n",
       "       [0.4815689 ],\n",
       "       [0.5358295 ],\n",
       "       [0.6716039 ],\n",
       "       [0.71798074],\n",
       "       [0.6825367 ],\n",
       "       [0.607809  ],\n",
       "       [0.6121904 ],\n",
       "       [0.7321769 ],\n",
       "       [0.725753  ],\n",
       "       [0.6206887 ],\n",
       "       [0.5582667 ],\n",
       "       [0.7416189 ],\n",
       "       [0.75597274],\n",
       "       [0.76563156],\n",
       "       [0.7307133 ],\n",
       "       [0.71057403],\n",
       "       [0.71910113],\n",
       "       [0.7389284 ],\n",
       "       [0.6462379 ],\n",
       "       [0.70986766],\n",
       "       [0.6495096 ],\n",
       "       [0.6013836 ],\n",
       "       [0.5803846 ],\n",
       "       [0.50042737],\n",
       "       [0.5809896 ],\n",
       "       [0.46149245],\n",
       "       [0.4187085 ],\n",
       "       [0.59108955],\n",
       "       [0.24131495],\n",
       "       [0.23859273],\n",
       "       [0.25140202],\n",
       "       [0.25255617],\n",
       "       [0.25776234],\n",
       "       [0.302785  ],\n",
       "       [0.25419828],\n",
       "       [0.24808796],\n",
       "       [0.26191416],\n",
       "       [0.27152932],\n",
       "       [0.25517872],\n",
       "       [0.24396825],\n",
       "       [0.24325906],\n",
       "       [0.23561929],\n",
       "       [0.2366801 ],\n",
       "       [0.25643444],\n",
       "       [0.23946936],\n",
       "       [0.2461091 ],\n",
       "       [0.24086298],\n",
       "       [0.26040938],\n",
       "       [0.24108623],\n",
       "       [0.24567623],\n",
       "       [0.25226194],\n",
       "       [0.28481847],\n",
       "       [0.2675241 ],\n",
       "       [0.24173161],\n",
       "       [0.2551285 ],\n",
       "       [0.272871  ],\n",
       "       [0.3030853 ],\n",
       "       [0.46336678],\n",
       "       [0.4475365 ],\n",
       "       [0.41715136],\n",
       "       [0.43044728],\n",
       "       [0.36713952],\n",
       "       [0.4059912 ],\n",
       "       [0.25903058],\n",
       "       [0.25703007],\n",
       "       [0.2521991 ],\n",
       "       [0.250175  ],\n",
       "       [0.29387   ],\n",
       "       [0.31509674],\n",
       "       [0.35005587],\n",
       "       [0.3140209 ],\n",
       "       [0.29451087],\n",
       "       [0.2635349 ],\n",
       "       [0.2602912 ],\n",
       "       [0.26784348],\n",
       "       [0.23553309],\n",
       "       [0.3354943 ],\n",
       "       [0.27219304],\n",
       "       [0.29096907],\n",
       "       [0.37116435],\n",
       "       [0.45049945],\n",
       "       [0.35431293],\n",
       "       [0.44227552],\n",
       "       [0.41329083],\n",
       "       [0.5850756 ],\n",
       "       [0.5798079 ],\n",
       "       [0.62271965],\n",
       "       [0.5919588 ],\n",
       "       [0.6068106 ],\n",
       "       [0.60221165],\n",
       "       [0.62267816],\n",
       "       [0.65403587],\n",
       "       [0.5934176 ],\n",
       "       [0.64489627],\n",
       "       [0.6247274 ],\n",
       "       [0.62536645],\n",
       "       [0.523892  ],\n",
       "       [0.70079124],\n",
       "       [0.6753893 ],\n",
       "       [0.6743124 ],\n",
       "       [0.6685905 ],\n",
       "       [0.67856467],\n",
       "       [0.670748  ],\n",
       "       [0.6352036 ],\n",
       "       [0.63980985],\n",
       "       [0.6094191 ],\n",
       "       [0.33362964],\n",
       "       [0.558193  ],\n",
       "       [0.62826157],\n",
       "       [0.51750153],\n",
       "       [0.64438444],\n",
       "       [0.5624776 ],\n",
       "       [0.63722426],\n",
       "       [0.6399436 ],\n",
       "       [0.6857322 ],\n",
       "       [0.6031926 ],\n",
       "       [0.67654854],\n",
       "       [0.615345  ],\n",
       "       [0.64333737],\n",
       "       [0.67656964],\n",
       "       [0.6037164 ],\n",
       "       [0.63239455],\n",
       "       [0.5123514 ],\n",
       "       [0.6351125 ],\n",
       "       [0.24131495],\n",
       "       [0.23859273],\n",
       "       [0.25140202],\n",
       "       [0.25255617],\n",
       "       [0.25776234],\n",
       "       [0.302785  ],\n",
       "       [0.25419828],\n",
       "       [0.24808796],\n",
       "       [0.26191416],\n",
       "       [0.27152932],\n",
       "       [0.25517872],\n",
       "       [0.24396825],\n",
       "       [0.24325906],\n",
       "       [0.23561929],\n",
       "       [0.2366801 ],\n",
       "       [0.25643444],\n",
       "       [0.23946936],\n",
       "       [0.2461091 ],\n",
       "       [0.24086298],\n",
       "       [0.26040938],\n",
       "       [0.24108623],\n",
       "       [0.24567623],\n",
       "       [0.25226194],\n",
       "       [0.28481847],\n",
       "       [0.2675241 ],\n",
       "       [0.24173161],\n",
       "       [0.2551285 ],\n",
       "       [0.272871  ],\n",
       "       [0.3030853 ],\n",
       "       [0.46336678],\n",
       "       [0.4475365 ],\n",
       "       [0.41715136],\n",
       "       [0.43044728],\n",
       "       [0.36713952],\n",
       "       [0.4059912 ],\n",
       "       [0.25903058],\n",
       "       [0.25703007],\n",
       "       [0.2521991 ],\n",
       "       [0.250175  ],\n",
       "       [0.29387   ],\n",
       "       [0.31509674],\n",
       "       [0.35005587],\n",
       "       [0.3140209 ],\n",
       "       [0.29451087],\n",
       "       [0.2635349 ],\n",
       "       [0.2602912 ],\n",
       "       [0.26784348],\n",
       "       [0.23553309],\n",
       "       [0.3354943 ],\n",
       "       [0.27219304],\n",
       "       [0.29096907],\n",
       "       [0.37116435],\n",
       "       [0.45049945],\n",
       "       [0.35431293],\n",
       "       [0.44227552],\n",
       "       [0.41329083],\n",
       "       [0.5850756 ],\n",
       "       [0.5798079 ],\n",
       "       [0.62271965],\n",
       "       [0.5919588 ],\n",
       "       [0.6068106 ],\n",
       "       [0.60221165],\n",
       "       [0.62267816],\n",
       "       [0.65403587],\n",
       "       [0.5934176 ],\n",
       "       [0.64489627],\n",
       "       [0.6247274 ],\n",
       "       [0.62536645],\n",
       "       [0.523892  ],\n",
       "       [0.70079124],\n",
       "       [0.6753893 ],\n",
       "       [0.6743124 ],\n",
       "       [0.6685905 ],\n",
       "       [0.67856467],\n",
       "       [0.670748  ],\n",
       "       [0.6352036 ],\n",
       "       [0.63980985],\n",
       "       [0.6094191 ],\n",
       "       [0.33362964],\n",
       "       [0.558193  ],\n",
       "       [0.62826157],\n",
       "       [0.51750153],\n",
       "       [0.64438444],\n",
       "       [0.5624776 ],\n",
       "       [0.63722426],\n",
       "       [0.6399436 ],\n",
       "       [0.6857322 ],\n",
       "       [0.6031926 ],\n",
       "       [0.67654854],\n",
       "       [0.615345  ],\n",
       "       [0.64333737],\n",
       "       [0.67656964],\n",
       "       [0.6037164 ],\n",
       "       [0.63239455],\n",
       "       [0.5123514 ],\n",
       "       [0.6351125 ],\n",
       "       [0.2462496 ],\n",
       "       [0.21143325],\n",
       "       [0.23046061],\n",
       "       [0.27725834],\n",
       "       [0.36879414],\n",
       "       [0.25811353],\n",
       "       [0.36316457],\n",
       "       [0.3463202 ],\n",
       "       [0.61630857],\n",
       "       [0.56219566],\n",
       "       [0.45524395],\n",
       "       [0.43676135],\n",
       "       [0.51435196],\n",
       "       [0.5237711 ],\n",
       "       [0.5607973 ],\n",
       "       [0.5583102 ],\n",
       "       [0.51720446],\n",
       "       [0.5970894 ],\n",
       "       [0.5488117 ],\n",
       "       [0.5789451 ],\n",
       "       [0.39109942],\n",
       "       [0.76211077],\n",
       "       [0.7606531 ],\n",
       "       [0.7145791 ],\n",
       "       [0.72804457],\n",
       "       [0.661044  ],\n",
       "       [0.6736114 ],\n",
       "       [0.7146577 ],\n",
       "       [0.72283113],\n",
       "       [0.63394135],\n",
       "       [0.27765933],\n",
       "       [0.56451917],\n",
       "       [0.62066966],\n",
       "       [0.40830028],\n",
       "       [0.6736349 ],\n",
       "       [0.55128366],\n",
       "       [0.67004526],\n",
       "       [0.5549128 ],\n",
       "       [0.61169386],\n",
       "       [0.6679934 ],\n",
       "       [0.6564097 ],\n",
       "       [0.6906048 ],\n",
       "       [0.7268507 ],\n",
       "       [0.7370087 ],\n",
       "       [0.5967144 ],\n",
       "       [0.7373912 ],\n",
       "       [0.531644  ],\n",
       "       [0.7259907 ],\n",
       "       [0.18556039],\n",
       "       [0.19485922],\n",
       "       [0.26059124],\n",
       "       [0.19510302],\n",
       "       [0.20387314],\n",
       "       [0.3770767 ],\n",
       "       [0.54124093],\n",
       "       [0.52469957],\n",
       "       [0.53805315],\n",
       "       [0.38463357],\n",
       "       [0.5304222 ],\n",
       "       [0.255058  ],\n",
       "       [0.23303922],\n",
       "       [0.22431968],\n",
       "       [0.2500485 ],\n",
       "       [0.5054965 ],\n",
       "       [0.4470972 ],\n",
       "       [0.30190647],\n",
       "       [0.5596294 ],\n",
       "       [0.4067116 ],\n",
       "       [0.4815689 ],\n",
       "       [0.5358295 ],\n",
       "       [0.6716039 ],\n",
       "       [0.71798074],\n",
       "       [0.6825367 ],\n",
       "       [0.607809  ],\n",
       "       [0.6121904 ],\n",
       "       [0.7321769 ],\n",
       "       [0.725753  ],\n",
       "       [0.6206887 ],\n",
       "       [0.5582667 ],\n",
       "       [0.7416189 ],\n",
       "       [0.75597274],\n",
       "       [0.76563156],\n",
       "       [0.7307133 ],\n",
       "       [0.71057403],\n",
       "       [0.71910113],\n",
       "       [0.7389284 ],\n",
       "       [0.6462379 ],\n",
       "       [0.70986766],\n",
       "       [0.6495096 ],\n",
       "       [0.6013836 ],\n",
       "       [0.5803846 ],\n",
       "       [0.50042737],\n",
       "       [0.5809896 ],\n",
       "       [0.46149245],\n",
       "       [0.4187085 ],\n",
       "       [0.59108955],\n",
       "       [0.2462496 ],\n",
       "       [0.21143325],\n",
       "       [0.23046061],\n",
       "       [0.27725834],\n",
       "       [0.36879414],\n",
       "       [0.25811353],\n",
       "       [0.36316457],\n",
       "       [0.3463202 ],\n",
       "       [0.61630857],\n",
       "       [0.56219566],\n",
       "       [0.45524395],\n",
       "       [0.43676135],\n",
       "       [0.51435196],\n",
       "       [0.5237711 ],\n",
       "       [0.5607973 ],\n",
       "       [0.5583102 ],\n",
       "       [0.51720446],\n",
       "       [0.5970894 ],\n",
       "       [0.5488117 ],\n",
       "       [0.5789451 ],\n",
       "       [0.39109942],\n",
       "       [0.76211077],\n",
       "       [0.7606531 ],\n",
       "       [0.7145791 ],\n",
       "       [0.72804457],\n",
       "       [0.661044  ],\n",
       "       [0.6736114 ],\n",
       "       [0.7146577 ],\n",
       "       [0.72283113],\n",
       "       [0.63394135],\n",
       "       [0.27765933],\n",
       "       [0.56451917],\n",
       "       [0.62066966],\n",
       "       [0.40830028],\n",
       "       [0.6736349 ],\n",
       "       [0.55128366],\n",
       "       [0.67004526],\n",
       "       [0.5549128 ],\n",
       "       [0.61169386],\n",
       "       [0.6679934 ],\n",
       "       [0.6564097 ],\n",
       "       [0.6906048 ],\n",
       "       [0.7268507 ],\n",
       "       [0.7370087 ],\n",
       "       [0.5967144 ],\n",
       "       [0.7373912 ],\n",
       "       [0.531644  ],\n",
       "       [0.7259907 ],\n",
       "       [0.2462496 ],\n",
       "       [0.21143325],\n",
       "       [0.23046061],\n",
       "       [0.27725834],\n",
       "       [0.36879414],\n",
       "       [0.25811353],\n",
       "       [0.36316457],\n",
       "       [0.3463202 ],\n",
       "       [0.61630857],\n",
       "       [0.56219566],\n",
       "       [0.45524395],\n",
       "       [0.43676135],\n",
       "       [0.51435196],\n",
       "       [0.5237711 ],\n",
       "       [0.56079733],\n",
       "       [0.55831033],\n",
       "       [0.51720446],\n",
       "       [0.5970894 ],\n",
       "       [0.5488117 ],\n",
       "       [0.5789451 ],\n",
       "       [0.39109942],\n",
       "       [0.76211077],\n",
       "       [0.7606531 ],\n",
       "       [0.7145791 ],\n",
       "       [0.72804457],\n",
       "       [0.661044  ],\n",
       "       [0.6736114 ],\n",
       "       [0.7146577 ],\n",
       "       [0.72283113],\n",
       "       [0.63394135],\n",
       "       [0.27765936],\n",
       "       [0.5645193 ],\n",
       "       [0.62066966],\n",
       "       [0.40830028],\n",
       "       [0.6736349 ],\n",
       "       [0.55128366],\n",
       "       [0.67004526],\n",
       "       [0.5549128 ],\n",
       "       [0.61169386],\n",
       "       [0.6679934 ],\n",
       "       [0.6564097 ],\n",
       "       [0.6906048 ],\n",
       "       [0.7268507 ],\n",
       "       [0.7370087 ],\n",
       "       [0.5967144 ],\n",
       "       [0.7373912 ],\n",
       "       [0.531644  ],\n",
       "       [0.7259907 ]], dtype=float32)"
      ]
     },
     "execution_count": 20,
     "metadata": {},
     "output_type": "execute_result"
    }
   ],
   "source": [
    "import numpy as np\n",
    "from keras.utils import to_categorical\n",
    "from keras.layers import Dense, Flatten, Dropout, ZeroPadding3D\n",
    "from keras.layers import LSTM\n",
    "from keras.models import Sequential, load_model\n",
    "from keras.optimizers import Adam, RMSprop\n",
    "from keras.layers import TimeDistributed\n",
    "from keras.layers.convolutional import (Conv2D, MaxPooling3D, Conv3D,\n",
    "    MaxPooling2D)\n",
    "from collections import deque\n",
    "import sys\n",
    "\n",
    "metrics = ['accuracy']\n",
    "model = Sequential()\n",
    "model.add(Dense(1024, activation='sigmoid'))\n",
    "model.add(LSTM(512, return_sequences=True,\n",
    "                       input_shape=(5, 4,),\n",
    "                       dropout=0.5))\n",
    "\n",
    "model.add(Flatten())\n",
    "# Dense is fully connected layer. 16 hidden units\n",
    "# activation for lstm is basically sigmoid or tanh\n",
    "model.add(Dense(216, activation='sigmoid')) #FC1\n",
    "model.add(Dense(32, activation='tanh')) #FC2\n",
    "model.add(Dropout(0.5))\n",
    "model.add(Dense(16, activation='relu'))#FC3\n",
    "model.add(Dropout(0.5))\n",
    "model.add(Dense(1, activation='tanh'))#Output Layer\n",
    "optimizer = Adam(lr=0.00005)\n",
    "model.compile(loss='binary_crossentropy', optimizer=optimizer, metrics=metrics)\n",
    "model.fit(x_shaped_train, y_shaped_train, validation_data = (x_shaped_test,y_shaped_test), epochs=50, batch_size=  10)\n",
    "model.predict(x_shaped_test)"
   ]
  },
  {
   "cell_type": "code",
   "execution_count": 32,
   "metadata": {
    "colab": {
     "base_uri": "https://localhost:8080/",
     "height": 68
    },
    "colab_type": "code",
    "id": "ndI5J_0Eg9Bi",
    "outputId": "c2e1992f-0ac6-4279-e8dd-8d6dc5b5d945"
   },
   "outputs": [
    {
     "name": "stdout",
     "output_type": "stream",
     "text": [
      "15/15 [==============================] - 0s 23ms/step\n",
      "15/15 [==============================] - 0s 23ms/step\n",
      "[0.6458333333333334, 0.6730769230769231, 0.655]\n",
      "[[135 105]\n",
      " [ 65 175]]\n"
     ]
    }
   ],
   "source": [
    "from sklearn.metrics import confusion_matrix\n",
    "from sklearn.metrics import roc_curve, roc_auc_score, f1_score\n",
    "from sklearn.metrics import accuracy_score\n",
    "from sklearn import metrics\n",
    "\n",
    "pred_rnn = model.predict(x_shaped_test)\n",
    "y_score_10 = model.predict(x_shaped_test)\n",
    "pred_rnn = np.round(pred_rnn) # Round predictions to get binary class labels\n",
    "acc10 = accuracy_score(y_shaped_test, pred_rnn)\n",
    "f1_score_10 = f1_score(y_shaped_test, np.array(pred_rnn))\n",
    "roc_10 = roc_auc_score(y_shaped_test, y_score_10[:, ]) # Use probability of positive class for ROC AUC\n",
    "print([acc10, f1_score_10, roc_10])\n",
    "print(confusion_matrix(y_shaped_test, pred_rnn))"
   ]
  },
  {
   "cell_type": "code",
   "execution_count": 33,
   "metadata": {
    "colab": {
     "base_uri": "https://localhost:8080/",
     "height": 530
    },
    "colab_type": "code",
    "id": "XbLVuy9ljvPH",
    "outputId": "44a8d357-e5c2-47a2-a2e1-3ed4edb97869"
   },
   "outputs": [
    {
     "data": {
      "text/plain": [
       "<matplotlib.legend.Legend at 0x25ad8ab4b48>"
      ]
     },
     "execution_count": 33,
     "metadata": {},
     "output_type": "execute_result"
    },
    {
     "data": {
      "image/png": "[encoded data removed]",
      "text/plain": [
       "<Figure size 800x800 with 1 Axes>"
      ]
     },
     "metadata": {},
     "output_type": "display_data"
    }
   ],
   "source": [
    "import matplotlib.pyplot as plt\n",
    "plt.figure(figsize=(8,8))\n",
    "plt.plot([0, 1], [0, 1],'r--')\n",
    "fpr, tpr, thresholds = roc_curve(y_shaped_test, y_score_10)\n",
    "plt.plot(fpr, tpr, label= 'ROC curve (area = %0.2f)' % roc_10)\n",
    "plt.title('ROC Curve for LSTM')\n",
    "plt.xlabel('False Positive Rate')\n",
    "plt.ylabel('True Positive Rate')\n",
    "plt.legend()"
   ]
  },
  {
   "cell_type": "code",
   "execution_count": 34,
   "metadata": {
    "colab": {
     "base_uri": "https://localhost:8080/",
     "height": 500
    },
    "colab_type": "code",
    "id": "FkwvvzcBj989",
    "outputId": "49a67759-ba65-40e2-e07b-c1992e9a43d7"
   },
   "outputs": [
    {
     "data": {
      "text/plain": [
       "[<matplotlib.lines.Line2D at 0x25ad3e5e548>]"
      ]
     },
     "execution_count": 34,
     "metadata": {},
     "output_type": "execute_result"
    },
    {
     "data": {
      "image/png": "[encoded data removed]",
      "text/plain": [
       "<Figure size 800x800 with 1 Axes>"
      ]
     },
     "metadata": {},
     "output_type": "display_data"
    }
   ],
   "source": [
    "from sklearn.calibration import calibration_curve\n",
    "plt.figure(figsize=(8,8))\n",
    "plt.plot([0, 1], [0, 1], \"k:\", label=\"Perfectly calibrated\")\n",
    "fraction_of_positives, mean_predicted_value=calibration_curve(y_shaped_test,y_score_10,n_bins=10)\n",
    "plt.plot(mean_predicted_value, fraction_of_positives,\"s-\",\n",
    "                 label=\"%s\" % 'LSTM')"
   ]
  }
 ],
 "metadata": {
  "accelerator": "GPU",
  "colab": {
   "collapsed_sections": [],
   "name": "LSTM.ipynb",
   "provenance": []
  },
  "kernelspec": {
   "display_name": "Python 3",
   "language": "python",
   "name": "python3"
  },
  "language_info": {
   "codemirror_mode": {
    "name": "ipython",
    "version": 3
   },
   "file_extension": ".py",
   "mimetype": "text/x-python",
   "name": "python",
   "nbconvert_exporter": "python",
   "pygments_lexer": "ipython3",
   "version": "3.7.9"
  }
 },
 "nbformat": 4,
 "nbformat_minor": 1
}
